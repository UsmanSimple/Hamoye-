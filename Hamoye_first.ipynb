{
 "cells": [
  {
   "cell_type": "markdown",
   "metadata": {},
   "source": [
    "### Import the necessary libraries"
   ]
  },
  {
   "cell_type": "code",
   "execution_count": 114,
   "metadata": {},
   "outputs": [],
   "source": [
    "import pandas as pd\n",
    "import seaborn as sns\n",
    "import numpy as np\n",
    "import matplotlib.pyplot as plt\n",
    "import sklearn\n",
    "\n",
    "from matplotlib import rcParams\n",
    "rcParams['figure.figsize'] = 15,10\n",
    "\n",
    "%matplotlib inline\n",
    "\n",
    "import warnings\n",
    "warnings.filterwarnings('ignore')"
   ]
  },
  {
   "cell_type": "markdown",
   "metadata": {},
   "source": [
    "### Data Description\n",
    "'Record_id' : record id\n",
    "\n",
    "'Utility_id_ferc1': Utility id assigned by the FERC\n",
    "\n",
    "'Report_year': year of report\n",
    "\n",
    "'Plant_name_ferc1': the name of the plant\n",
    "\n",
    "'Fuel_type_code_pudl': the type of fuel\n",
    "\n",
    "'Fuel_unit': the unit of fuel\n",
    "\n",
    "'Fuel_qty_burned': the quantity of fuel burned\n",
    "\n",
    "'Fuel_mmbtu_per_unit': the measure of energy per unit\n",
    "\n",
    "'fuel_cost_per_unit_burned': the fuel cost per unit burned\n",
    "\n",
    "'Fuel_cost_per_unit_delivered': the cost of fuel delivered per unit\n",
    "\n",
    "'fuel_cost_per_mmbtu': the cost of fuel per mmbtu"
   ]
  },
  {
   "cell_type": "markdown",
   "metadata": {},
   "source": [
    " ### Load the data"
   ]
  },
  {
   "cell_type": "code",
   "execution_count": 115,
   "metadata": {},
   "outputs": [
    {
     "data": {
      "text/html": [
       "<div>\n",
       "<style scoped>\n",
       "    .dataframe tbody tr th:only-of-type {\n",
       "        vertical-align: middle;\n",
       "    }\n",
       "\n",
       "    .dataframe tbody tr th {\n",
       "        vertical-align: top;\n",
       "    }\n",
       "\n",
       "    .dataframe thead th {\n",
       "        text-align: right;\n",
       "    }\n",
       "</style>\n",
       "<table border=\"1\" class=\"dataframe\">\n",
       "  <thead>\n",
       "    <tr style=\"text-align: right;\">\n",
       "      <th></th>\n",
       "      <th>record_id</th>\n",
       "      <th>utility_id_ferc1</th>\n",
       "      <th>report_year</th>\n",
       "      <th>plant_name_ferc1</th>\n",
       "      <th>fuel_type_code_pudl</th>\n",
       "      <th>fuel_unit</th>\n",
       "      <th>fuel_qty_burned</th>\n",
       "      <th>fuel_mmbtu_per_unit</th>\n",
       "      <th>fuel_cost_per_unit_burned</th>\n",
       "      <th>fuel_cost_per_unit_delivered</th>\n",
       "      <th>fuel_cost_per_mmbtu</th>\n",
       "    </tr>\n",
       "  </thead>\n",
       "  <tbody>\n",
       "    <tr>\n",
       "      <th>0</th>\n",
       "      <td>f1_fuel_1994_12_1_0_7</td>\n",
       "      <td>1</td>\n",
       "      <td>1994</td>\n",
       "      <td>rockport</td>\n",
       "      <td>coal</td>\n",
       "      <td>ton</td>\n",
       "      <td>5377489.0</td>\n",
       "      <td>16.590</td>\n",
       "      <td>18.59</td>\n",
       "      <td>18.53</td>\n",
       "      <td>1.121</td>\n",
       "    </tr>\n",
       "    <tr>\n",
       "      <th>1</th>\n",
       "      <td>f1_fuel_1994_12_1_0_10</td>\n",
       "      <td>1</td>\n",
       "      <td>1994</td>\n",
       "      <td>rockport total plant</td>\n",
       "      <td>coal</td>\n",
       "      <td>ton</td>\n",
       "      <td>10486945.0</td>\n",
       "      <td>16.592</td>\n",
       "      <td>18.58</td>\n",
       "      <td>18.53</td>\n",
       "      <td>1.120</td>\n",
       "    </tr>\n",
       "    <tr>\n",
       "      <th>2</th>\n",
       "      <td>f1_fuel_1994_12_2_0_1</td>\n",
       "      <td>2</td>\n",
       "      <td>1994</td>\n",
       "      <td>gorgas</td>\n",
       "      <td>coal</td>\n",
       "      <td>ton</td>\n",
       "      <td>2978683.0</td>\n",
       "      <td>24.130</td>\n",
       "      <td>39.72</td>\n",
       "      <td>38.12</td>\n",
       "      <td>1.650</td>\n",
       "    </tr>\n",
       "    <tr>\n",
       "      <th>3</th>\n",
       "      <td>f1_fuel_1994_12_2_0_7</td>\n",
       "      <td>2</td>\n",
       "      <td>1994</td>\n",
       "      <td>barry</td>\n",
       "      <td>coal</td>\n",
       "      <td>ton</td>\n",
       "      <td>3739484.0</td>\n",
       "      <td>23.950</td>\n",
       "      <td>47.21</td>\n",
       "      <td>45.99</td>\n",
       "      <td>1.970</td>\n",
       "    </tr>\n",
       "    <tr>\n",
       "      <th>4</th>\n",
       "      <td>f1_fuel_1994_12_2_0_10</td>\n",
       "      <td>2</td>\n",
       "      <td>1994</td>\n",
       "      <td>chickasaw</td>\n",
       "      <td>gas</td>\n",
       "      <td>mcf</td>\n",
       "      <td>40533.0</td>\n",
       "      <td>1.000</td>\n",
       "      <td>2.77</td>\n",
       "      <td>2.77</td>\n",
       "      <td>2.570</td>\n",
       "    </tr>\n",
       "  </tbody>\n",
       "</table>\n",
       "</div>"
      ],
      "text/plain": [
       "                record_id  utility_id_ferc1  report_year  \\\n",
       "0   f1_fuel_1994_12_1_0_7                 1         1994   \n",
       "1  f1_fuel_1994_12_1_0_10                 1         1994   \n",
       "2   f1_fuel_1994_12_2_0_1                 2         1994   \n",
       "3   f1_fuel_1994_12_2_0_7                 2         1994   \n",
       "4  f1_fuel_1994_12_2_0_10                 2         1994   \n",
       "\n",
       "       plant_name_ferc1 fuel_type_code_pudl fuel_unit  fuel_qty_burned  \\\n",
       "0              rockport                coal       ton        5377489.0   \n",
       "1  rockport total plant                coal       ton       10486945.0   \n",
       "2                gorgas                coal       ton        2978683.0   \n",
       "3                 barry                coal       ton        3739484.0   \n",
       "4             chickasaw                 gas       mcf          40533.0   \n",
       "\n",
       "   fuel_mmbtu_per_unit  fuel_cost_per_unit_burned  \\\n",
       "0               16.590                      18.59   \n",
       "1               16.592                      18.58   \n",
       "2               24.130                      39.72   \n",
       "3               23.950                      47.21   \n",
       "4                1.000                       2.77   \n",
       "\n",
       "   fuel_cost_per_unit_delivered  fuel_cost_per_mmbtu  \n",
       "0                         18.53                1.121  \n",
       "1                         18.53                1.120  \n",
       "2                         38.12                1.650  \n",
       "3                         45.99                1.970  \n",
       "4                          2.77                2.570  "
      ]
     },
     "execution_count": 115,
     "metadata": {},
     "output_type": "execute_result"
    }
   ],
   "source": [
    "fuel_data = pd.read_csv('./Data/fuel_ferc1.csv')\n",
    "fuel_data.head()"
   ]
  },
  {
   "cell_type": "markdown",
   "metadata": {},
   "source": [
    "### Exploratory Data Analysis"
   ]
  },
  {
   "cell_type": "code",
   "execution_count": 116,
   "metadata": {},
   "outputs": [
    {
     "data": {
      "text/html": [
       "<div>\n",
       "<style scoped>\n",
       "    .dataframe tbody tr th:only-of-type {\n",
       "        vertical-align: middle;\n",
       "    }\n",
       "\n",
       "    .dataframe tbody tr th {\n",
       "        vertical-align: top;\n",
       "    }\n",
       "\n",
       "    .dataframe thead th {\n",
       "        text-align: right;\n",
       "    }\n",
       "</style>\n",
       "<table border=\"1\" class=\"dataframe\">\n",
       "  <thead>\n",
       "    <tr style=\"text-align: right;\">\n",
       "      <th></th>\n",
       "      <th>utility_id_ferc1</th>\n",
       "      <th>report_year</th>\n",
       "      <th>fuel_qty_burned</th>\n",
       "      <th>fuel_mmbtu_per_unit</th>\n",
       "      <th>fuel_cost_per_unit_burned</th>\n",
       "      <th>fuel_cost_per_unit_delivered</th>\n",
       "      <th>fuel_cost_per_mmbtu</th>\n",
       "    </tr>\n",
       "  </thead>\n",
       "  <tbody>\n",
       "    <tr>\n",
       "      <th>count</th>\n",
       "      <td>29523.000000</td>\n",
       "      <td>29523.000000</td>\n",
       "      <td>2.952300e+04</td>\n",
       "      <td>29523.000000</td>\n",
       "      <td>29523.000000</td>\n",
       "      <td>2.952300e+04</td>\n",
       "      <td>29523.000000</td>\n",
       "    </tr>\n",
       "    <tr>\n",
       "      <th>mean</th>\n",
       "      <td>118.601836</td>\n",
       "      <td>2005.806050</td>\n",
       "      <td>2.622119e+06</td>\n",
       "      <td>8.492111</td>\n",
       "      <td>208.649031</td>\n",
       "      <td>9.175704e+02</td>\n",
       "      <td>19.304354</td>\n",
       "    </tr>\n",
       "    <tr>\n",
       "      <th>std</th>\n",
       "      <td>74.178353</td>\n",
       "      <td>7.025483</td>\n",
       "      <td>9.118004e+06</td>\n",
       "      <td>10.600220</td>\n",
       "      <td>2854.490090</td>\n",
       "      <td>6.877593e+04</td>\n",
       "      <td>2091.540939</td>\n",
       "    </tr>\n",
       "    <tr>\n",
       "      <th>min</th>\n",
       "      <td>1.000000</td>\n",
       "      <td>1994.000000</td>\n",
       "      <td>1.000000e+00</td>\n",
       "      <td>0.000001</td>\n",
       "      <td>-276.080000</td>\n",
       "      <td>-8.749370e+02</td>\n",
       "      <td>-41.501000</td>\n",
       "    </tr>\n",
       "    <tr>\n",
       "      <th>25%</th>\n",
       "      <td>55.000000</td>\n",
       "      <td>2000.000000</td>\n",
       "      <td>1.381700e+04</td>\n",
       "      <td>1.024000</td>\n",
       "      <td>5.207000</td>\n",
       "      <td>3.778500e+00</td>\n",
       "      <td>1.940000</td>\n",
       "    </tr>\n",
       "    <tr>\n",
       "      <th>50%</th>\n",
       "      <td>122.000000</td>\n",
       "      <td>2006.000000</td>\n",
       "      <td>2.533220e+05</td>\n",
       "      <td>5.762694</td>\n",
       "      <td>26.000000</td>\n",
       "      <td>1.737100e+01</td>\n",
       "      <td>4.127000</td>\n",
       "    </tr>\n",
       "    <tr>\n",
       "      <th>75%</th>\n",
       "      <td>176.000000</td>\n",
       "      <td>2012.000000</td>\n",
       "      <td>1.424034e+06</td>\n",
       "      <td>17.006000</td>\n",
       "      <td>47.113000</td>\n",
       "      <td>4.213700e+01</td>\n",
       "      <td>7.745000</td>\n",
       "    </tr>\n",
       "    <tr>\n",
       "      <th>max</th>\n",
       "      <td>514.000000</td>\n",
       "      <td>2018.000000</td>\n",
       "      <td>5.558942e+08</td>\n",
       "      <td>341.260000</td>\n",
       "      <td>139358.000000</td>\n",
       "      <td>7.964521e+06</td>\n",
       "      <td>359278.000000</td>\n",
       "    </tr>\n",
       "  </tbody>\n",
       "</table>\n",
       "</div>"
      ],
      "text/plain": [
       "       utility_id_ferc1   report_year  fuel_qty_burned  fuel_mmbtu_per_unit  \\\n",
       "count      29523.000000  29523.000000     2.952300e+04         29523.000000   \n",
       "mean         118.601836   2005.806050     2.622119e+06             8.492111   \n",
       "std           74.178353      7.025483     9.118004e+06            10.600220   \n",
       "min            1.000000   1994.000000     1.000000e+00             0.000001   \n",
       "25%           55.000000   2000.000000     1.381700e+04             1.024000   \n",
       "50%          122.000000   2006.000000     2.533220e+05             5.762694   \n",
       "75%          176.000000   2012.000000     1.424034e+06            17.006000   \n",
       "max          514.000000   2018.000000     5.558942e+08           341.260000   \n",
       "\n",
       "       fuel_cost_per_unit_burned  fuel_cost_per_unit_delivered  \\\n",
       "count               29523.000000                  2.952300e+04   \n",
       "mean                  208.649031                  9.175704e+02   \n",
       "std                  2854.490090                  6.877593e+04   \n",
       "min                  -276.080000                 -8.749370e+02   \n",
       "25%                     5.207000                  3.778500e+00   \n",
       "50%                    26.000000                  1.737100e+01   \n",
       "75%                    47.113000                  4.213700e+01   \n",
       "max                139358.000000                  7.964521e+06   \n",
       "\n",
       "       fuel_cost_per_mmbtu  \n",
       "count         29523.000000  \n",
       "mean             19.304354  \n",
       "std            2091.540939  \n",
       "min             -41.501000  \n",
       "25%               1.940000  \n",
       "50%               4.127000  \n",
       "75%               7.745000  \n",
       "max          359278.000000  "
      ]
     },
     "execution_count": 116,
     "metadata": {},
     "output_type": "execute_result"
    }
   ],
   "source": [
    "fuel_data.describe()"
   ]
  },
  {
   "cell_type": "code",
   "execution_count": 117,
   "metadata": {},
   "outputs": [
    {
     "name": "stdout",
     "output_type": "stream",
     "text": [
      "<class 'pandas.core.frame.DataFrame'>\n",
      "RangeIndex: 29523 entries, 0 to 29522\n",
      "Data columns (total 11 columns):\n",
      " #   Column                        Non-Null Count  Dtype  \n",
      "---  ------                        --------------  -----  \n",
      " 0   record_id                     29523 non-null  object \n",
      " 1   utility_id_ferc1              29523 non-null  int64  \n",
      " 2   report_year                   29523 non-null  int64  \n",
      " 3   plant_name_ferc1              29523 non-null  object \n",
      " 4   fuel_type_code_pudl           29523 non-null  object \n",
      " 5   fuel_unit                     29343 non-null  object \n",
      " 6   fuel_qty_burned               29523 non-null  float64\n",
      " 7   fuel_mmbtu_per_unit           29523 non-null  float64\n",
      " 8   fuel_cost_per_unit_burned     29523 non-null  float64\n",
      " 9   fuel_cost_per_unit_delivered  29523 non-null  float64\n",
      " 10  fuel_cost_per_mmbtu           29523 non-null  float64\n",
      "dtypes: float64(5), int64(2), object(4)\n",
      "memory usage: 2.5+ MB\n"
     ]
    }
   ],
   "source": [
    "fuel_data.info()"
   ]
  },
  {
   "cell_type": "code",
   "execution_count": 118,
   "metadata": {},
   "outputs": [
    {
     "name": "stdout",
     "output_type": "stream",
     "text": [
      "The Fuel_data dataset has 29523 rows and 11 columns\n"
     ]
    }
   ],
   "source": [
    "print(f'The Fuel_data dataset has {fuel_data.shape[0]} rows and {fuel_data.shape[1]} columns')"
   ]
  },
  {
   "cell_type": "code",
   "execution_count": 119,
   "metadata": {},
   "outputs": [
    {
     "data": {
      "text/plain": [
       "False"
      ]
     },
     "execution_count": 119,
     "metadata": {},
     "output_type": "execute_result"
    }
   ],
   "source": [
    "fuel_data.duplicated().any()"
   ]
  },
  {
   "cell_type": "code",
   "execution_count": 120,
   "metadata": {
    "scrolled": true
   },
   "outputs": [
    {
     "data": {
      "text/plain": [
       "record_id                         0\n",
       "utility_id_ferc1                  0\n",
       "report_year                       0\n",
       "plant_name_ferc1                  0\n",
       "fuel_type_code_pudl               0\n",
       "fuel_unit                       180\n",
       "fuel_qty_burned                   0\n",
       "fuel_mmbtu_per_unit               0\n",
       "fuel_cost_per_unit_burned         0\n",
       "fuel_cost_per_unit_delivered      0\n",
       "fuel_cost_per_mmbtu               0\n",
       "dtype: int64"
      ]
     },
     "execution_count": 120,
     "metadata": {},
     "output_type": "execute_result"
    }
   ],
   "source": [
    "fuel_data.isnull().sum()"
   ]
  },
  {
   "cell_type": "code",
   "execution_count": 121,
   "metadata": {},
   "outputs": [
    {
     "name": "stdout",
     "output_type": "stream",
     "text": [
      "Feature record_id has 29523 unique variables\n",
      " \n",
      "Feature plant_name_ferc1 has 2315 unique variables\n",
      " \n",
      "Feature fuel_type_code_pudl has 6 unique variables\n",
      " \n",
      "Feature fuel_unit has 9 unique variables\n",
      " \n"
     ]
    }
   ],
   "source": [
    "for col in fuel_data.columns:\n",
    "    if fuel_data[col].dtypes== 'O':\n",
    "        print(f'Feature {col} has {fuel_data[col].nunique()} unique variables')\n",
    "        print(' ')"
   ]
  },
  {
   "cell_type": "code",
   "execution_count": 122,
   "metadata": {},
   "outputs": [
    {
     "name": "stdout",
     "output_type": "stream",
     "text": [
      "plant_name_ferc1\n",
      "big stone               156\n",
      "four corners            151\n",
      "riverside               133\n",
      "coyote                  121\n",
      "louisa                  119\n",
      "                       ... \n",
      "w. c. beckjord 1 - 5      1\n",
      "gloucester                1\n",
      "west phoenix 1-3          1\n",
      "h. o. clarke              1\n",
      "sunrise (3)               1\n",
      "Name: plant_name_ferc1, Length: 2315, dtype: int64\n",
      "----------------------------------------------------------------------------------------------------\n",
      "fuel_type_code_pudl\n",
      "gas        11486\n",
      "coal        8547\n",
      "oil         8064\n",
      "nuclear      818\n",
      "waste        441\n",
      "other        167\n",
      "Name: fuel_type_code_pudl, dtype: int64\n",
      "----------------------------------------------------------------------------------------------------\n",
      "fuel_unit\n",
      "mcf       11354\n",
      "ton        8958\n",
      "bbl        7998\n",
      "gramsU      464\n",
      "mmbtu       180\n",
      "kgU         110\n",
      "mwhth       100\n",
      "mwdth        95\n",
      "gal          84\n",
      "Name: fuel_unit, dtype: int64\n",
      "----------------------------------------------------------------------------------------------------\n"
     ]
    }
   ],
   "source": [
    "cat_features = fuel_data.select_dtypes(include = [np.object])\n",
    "num_features = fuel_data.select_dtypes(include = [np.number])\n",
    "cat_cols = cat_features.columns\n",
    "num_cols = num_features.columns\n",
    "for col in cat_cols:\n",
    "    if cat_features[col].nunique() <= 2500:\n",
    "        print(col)\n",
    "        print(cat_features[col].value_counts().sort_values(ascending = False))\n",
    "        print('-'*100)"
   ]
  },
  {
   "cell_type": "code",
   "execution_count": 123,
   "metadata": {},
   "outputs": [
    {
     "data": {
      "text/html": [
       "<div>\n",
       "<style scoped>\n",
       "    .dataframe tbody tr th:only-of-type {\n",
       "        vertical-align: middle;\n",
       "    }\n",
       "\n",
       "    .dataframe tbody tr th {\n",
       "        vertical-align: top;\n",
       "    }\n",
       "\n",
       "    .dataframe thead th {\n",
       "        text-align: right;\n",
       "    }\n",
       "</style>\n",
       "<table border=\"1\" class=\"dataframe\">\n",
       "  <thead>\n",
       "    <tr style=\"text-align: right;\">\n",
       "      <th></th>\n",
       "      <th>utility_id_ferc1</th>\n",
       "      <th>report_year</th>\n",
       "      <th>fuel_qty_burned</th>\n",
       "      <th>fuel_mmbtu_per_unit</th>\n",
       "      <th>fuel_cost_per_unit_burned</th>\n",
       "      <th>fuel_cost_per_unit_delivered</th>\n",
       "      <th>fuel_cost_per_mmbtu</th>\n",
       "    </tr>\n",
       "  </thead>\n",
       "  <tbody>\n",
       "    <tr>\n",
       "      <th>utility_id_ferc1</th>\n",
       "      <td>1.000000</td>\n",
       "      <td>0.093323</td>\n",
       "      <td>-0.057447</td>\n",
       "      <td>-0.066946</td>\n",
       "      <td>-0.037863</td>\n",
       "      <td>-0.016414</td>\n",
       "      <td>0.006122</td>\n",
       "    </tr>\n",
       "    <tr>\n",
       "      <th>report_year</th>\n",
       "      <td>0.093323</td>\n",
       "      <td>1.000000</td>\n",
       "      <td>0.012952</td>\n",
       "      <td>-0.110853</td>\n",
       "      <td>0.013599</td>\n",
       "      <td>-0.014043</td>\n",
       "      <td>0.010261</td>\n",
       "    </tr>\n",
       "    <tr>\n",
       "      <th>fuel_qty_burned</th>\n",
       "      <td>-0.057447</td>\n",
       "      <td>0.012952</td>\n",
       "      <td>1.000000</td>\n",
       "      <td>-0.080946</td>\n",
       "      <td>-0.018535</td>\n",
       "      <td>-0.003551</td>\n",
       "      <td>-0.001896</td>\n",
       "    </tr>\n",
       "    <tr>\n",
       "      <th>fuel_mmbtu_per_unit</th>\n",
       "      <td>-0.066946</td>\n",
       "      <td>-0.110853</td>\n",
       "      <td>-0.080946</td>\n",
       "      <td>1.000000</td>\n",
       "      <td>-0.010034</td>\n",
       "      <td>-0.009039</td>\n",
       "      <td>-0.005884</td>\n",
       "    </tr>\n",
       "    <tr>\n",
       "      <th>fuel_cost_per_unit_burned</th>\n",
       "      <td>-0.037863</td>\n",
       "      <td>0.013599</td>\n",
       "      <td>-0.018535</td>\n",
       "      <td>-0.010034</td>\n",
       "      <td>1.000000</td>\n",
       "      <td>0.011007</td>\n",
       "      <td>-0.000437</td>\n",
       "    </tr>\n",
       "    <tr>\n",
       "      <th>fuel_cost_per_unit_delivered</th>\n",
       "      <td>-0.016414</td>\n",
       "      <td>-0.014043</td>\n",
       "      <td>-0.003551</td>\n",
       "      <td>-0.009039</td>\n",
       "      <td>0.011007</td>\n",
       "      <td>1.000000</td>\n",
       "      <td>-0.000109</td>\n",
       "    </tr>\n",
       "    <tr>\n",
       "      <th>fuel_cost_per_mmbtu</th>\n",
       "      <td>0.006122</td>\n",
       "      <td>0.010261</td>\n",
       "      <td>-0.001896</td>\n",
       "      <td>-0.005884</td>\n",
       "      <td>-0.000437</td>\n",
       "      <td>-0.000109</td>\n",
       "      <td>1.000000</td>\n",
       "    </tr>\n",
       "  </tbody>\n",
       "</table>\n",
       "</div>"
      ],
      "text/plain": [
       "                              utility_id_ferc1  report_year  fuel_qty_burned  \\\n",
       "utility_id_ferc1                      1.000000     0.093323        -0.057447   \n",
       "report_year                           0.093323     1.000000         0.012952   \n",
       "fuel_qty_burned                      -0.057447     0.012952         1.000000   \n",
       "fuel_mmbtu_per_unit                  -0.066946    -0.110853        -0.080946   \n",
       "fuel_cost_per_unit_burned            -0.037863     0.013599        -0.018535   \n",
       "fuel_cost_per_unit_delivered         -0.016414    -0.014043        -0.003551   \n",
       "fuel_cost_per_mmbtu                   0.006122     0.010261        -0.001896   \n",
       "\n",
       "                              fuel_mmbtu_per_unit  fuel_cost_per_unit_burned  \\\n",
       "utility_id_ferc1                        -0.066946                  -0.037863   \n",
       "report_year                             -0.110853                   0.013599   \n",
       "fuel_qty_burned                         -0.080946                  -0.018535   \n",
       "fuel_mmbtu_per_unit                      1.000000                  -0.010034   \n",
       "fuel_cost_per_unit_burned               -0.010034                   1.000000   \n",
       "fuel_cost_per_unit_delivered            -0.009039                   0.011007   \n",
       "fuel_cost_per_mmbtu                     -0.005884                  -0.000437   \n",
       "\n",
       "                              fuel_cost_per_unit_delivered  \\\n",
       "utility_id_ferc1                                 -0.016414   \n",
       "report_year                                      -0.014043   \n",
       "fuel_qty_burned                                  -0.003551   \n",
       "fuel_mmbtu_per_unit                              -0.009039   \n",
       "fuel_cost_per_unit_burned                         0.011007   \n",
       "fuel_cost_per_unit_delivered                      1.000000   \n",
       "fuel_cost_per_mmbtu                              -0.000109   \n",
       "\n",
       "                              fuel_cost_per_mmbtu  \n",
       "utility_id_ferc1                         0.006122  \n",
       "report_year                              0.010261  \n",
       "fuel_qty_burned                         -0.001896  \n",
       "fuel_mmbtu_per_unit                     -0.005884  \n",
       "fuel_cost_per_unit_burned               -0.000437  \n",
       "fuel_cost_per_unit_delivered            -0.000109  \n",
       "fuel_cost_per_mmbtu                      1.000000  "
      ]
     },
     "execution_count": 123,
     "metadata": {},
     "output_type": "execute_result"
    }
   ],
   "source": [
    "fuel_data.corr()"
   ]
  },
  {
   "cell_type": "code",
   "execution_count": 124,
   "metadata": {},
   "outputs": [
    {
     "data": {
      "text/plain": [
       "fuel_cost_per_unit_delivered    1.000000\n",
       "fuel_cost_per_unit_burned       0.011007\n",
       "fuel_cost_per_mmbtu            -0.000109\n",
       "fuel_qty_burned                -0.003551\n",
       "fuel_mmbtu_per_unit            -0.009039\n",
       "report_year                    -0.014043\n",
       "utility_id_ferc1               -0.016414\n",
       "Name: fuel_cost_per_unit_delivered, dtype: float64"
      ]
     },
     "execution_count": 124,
     "metadata": {},
     "output_type": "execute_result"
    }
   ],
   "source": [
    "fuel_data.corr()['fuel_cost_per_unit_delivered'].sort_values(ascending = False)"
   ]
  },
  {
   "cell_type": "markdown",
   "metadata": {},
   "source": [
    "### Correlation Heatmap"
   ]
  },
  {
   "cell_type": "code",
   "execution_count": 125,
   "metadata": {},
   "outputs": [
    {
     "data": {
      "image/png": "[encoded data removed]",
      "text/plain": [
       "<Figure size 864x576 with 2 Axes>"
      ]
     },
     "metadata": {
      "needs_background": "light"
     },
     "output_type": "display_data"
    }
   ],
   "source": [
    "corr = fuel_data.corr()\n",
    "mask = np.zeros_like(corr)\n",
    "mask[np.triu_indices_from(mask)] = True\n",
    "\n",
    "fig = plt.figure(figsize = (12,8))\n",
    "\n",
    "# plot the data using seaborn\n",
    "ax = sns.heatmap(corr, \n",
    "                 mask = mask, \n",
    "                 vmax = 0.3, \n",
    "                 square = True,  \n",
    "                 cmap = \"viridis\")\n",
    "# set the title for the figure\n",
    "ax.set_title(\"Heatmap using seaborn\", fontsize = 18 );"
   ]
  },
  {
   "cell_type": "code",
   "execution_count": 126,
   "metadata": {},
   "outputs": [
    {
     "data": {
      "text/html": [
       "<div>\n",
       "<style scoped>\n",
       "    .dataframe tbody tr th:only-of-type {\n",
       "        vertical-align: middle;\n",
       "    }\n",
       "\n",
       "    .dataframe tbody tr th {\n",
       "        vertical-align: top;\n",
       "    }\n",
       "\n",
       "    .dataframe thead tr th {\n",
       "        text-align: left;\n",
       "    }\n",
       "\n",
       "    .dataframe thead tr:last-of-type th {\n",
       "        text-align: right;\n",
       "    }\n",
       "</style>\n",
       "<table border=\"1\" class=\"dataframe\">\n",
       "  <thead>\n",
       "    <tr>\n",
       "      <th></th>\n",
       "      <th colspan=\"3\" halign=\"left\">fuel_qty_burned</th>\n",
       "      <th colspan=\"3\" halign=\"left\">fuel_cost_per_unit_burned</th>\n",
       "      <th colspan=\"3\" halign=\"left\">fuel_cost_per_unit_delivered</th>\n",
       "    </tr>\n",
       "    <tr>\n",
       "      <th></th>\n",
       "      <th>mean</th>\n",
       "      <th>min</th>\n",
       "      <th>max</th>\n",
       "      <th>mean</th>\n",
       "      <th>min</th>\n",
       "      <th>max</th>\n",
       "      <th>mean</th>\n",
       "      <th>min</th>\n",
       "      <th>max</th>\n",
       "    </tr>\n",
       "    <tr>\n",
       "      <th>fuel_type_code_pudl</th>\n",
       "      <th></th>\n",
       "      <th></th>\n",
       "      <th></th>\n",
       "      <th></th>\n",
       "      <th></th>\n",
       "      <th></th>\n",
       "      <th></th>\n",
       "      <th></th>\n",
       "      <th></th>\n",
       "    </tr>\n",
       "  </thead>\n",
       "  <tbody>\n",
       "    <tr>\n",
       "      <th>coal</th>\n",
       "      <td>1.903473e+06</td>\n",
       "      <td>3.0</td>\n",
       "      <td>555894250.0</td>\n",
       "      <td>67.421830</td>\n",
       "      <td>0.00</td>\n",
       "      <td>44033.320</td>\n",
       "      <td>116.951141</td>\n",
       "      <td>-40.725</td>\n",
       "      <td>270604.000</td>\n",
       "    </tr>\n",
       "    <tr>\n",
       "      <th>gas</th>\n",
       "      <td>4.843183e+06</td>\n",
       "      <td>1.0</td>\n",
       "      <td>166385450.0</td>\n",
       "      <td>13.659397</td>\n",
       "      <td>0.00</td>\n",
       "      <td>10490.000</td>\n",
       "      <td>12.095172</td>\n",
       "      <td>0.000</td>\n",
       "      <td>10490.000</td>\n",
       "    </tr>\n",
       "    <tr>\n",
       "      <th>nuclear</th>\n",
       "      <td>5.454838e+06</td>\n",
       "      <td>1.0</td>\n",
       "      <td>50038564.0</td>\n",
       "      <td>4955.157002</td>\n",
       "      <td>0.00</td>\n",
       "      <td>69785.215</td>\n",
       "      <td>28616.915039</td>\n",
       "      <td>0.000</td>\n",
       "      <td>7964521.000</td>\n",
       "    </tr>\n",
       "    <tr>\n",
       "      <th>oil</th>\n",
       "      <td>6.311677e+04</td>\n",
       "      <td>1.0</td>\n",
       "      <td>46460148.0</td>\n",
       "      <td>168.877086</td>\n",
       "      <td>0.00</td>\n",
       "      <td>139358.000</td>\n",
       "      <td>313.907691</td>\n",
       "      <td>-874.937</td>\n",
       "      <td>730166.000</td>\n",
       "    </tr>\n",
       "    <tr>\n",
       "      <th>other</th>\n",
       "      <td>2.948137e+06</td>\n",
       "      <td>25.0</td>\n",
       "      <td>417297683.0</td>\n",
       "      <td>18.253856</td>\n",
       "      <td>-119.04</td>\n",
       "      <td>134.547</td>\n",
       "      <td>16.871485</td>\n",
       "      <td>-118.340</td>\n",
       "      <td>132.209</td>\n",
       "    </tr>\n",
       "    <tr>\n",
       "      <th>waste</th>\n",
       "      <td>1.171914e+05</td>\n",
       "      <td>7.0</td>\n",
       "      <td>799499.0</td>\n",
       "      <td>19.518122</td>\n",
       "      <td>-276.08</td>\n",
       "      <td>132.291</td>\n",
       "      <td>18.413052</td>\n",
       "      <td>-174.670</td>\n",
       "      <td>121.020</td>\n",
       "    </tr>\n",
       "  </tbody>\n",
       "</table>\n",
       "</div>"
      ],
      "text/plain": [
       "                    fuel_qty_burned                     \\\n",
       "                               mean   min          max   \n",
       "fuel_type_code_pudl                                      \n",
       "coal                   1.903473e+06   3.0  555894250.0   \n",
       "gas                    4.843183e+06   1.0  166385450.0   \n",
       "nuclear                5.454838e+06   1.0   50038564.0   \n",
       "oil                    6.311677e+04   1.0   46460148.0   \n",
       "other                  2.948137e+06  25.0  417297683.0   \n",
       "waste                  1.171914e+05   7.0     799499.0   \n",
       "\n",
       "                    fuel_cost_per_unit_burned                      \\\n",
       "                                         mean     min         max   \n",
       "fuel_type_code_pudl                                                 \n",
       "coal                                67.421830    0.00   44033.320   \n",
       "gas                                 13.659397    0.00   10490.000   \n",
       "nuclear                           4955.157002    0.00   69785.215   \n",
       "oil                                168.877086    0.00  139358.000   \n",
       "other                               18.253856 -119.04     134.547   \n",
       "waste                               19.518122 -276.08     132.291   \n",
       "\n",
       "                    fuel_cost_per_unit_delivered                        \n",
       "                                            mean      min          max  \n",
       "fuel_type_code_pudl                                                     \n",
       "coal                                  116.951141  -40.725   270604.000  \n",
       "gas                                    12.095172    0.000    10490.000  \n",
       "nuclear                             28616.915039    0.000  7964521.000  \n",
       "oil                                   313.907691 -874.937   730166.000  \n",
       "other                                  16.871485 -118.340      132.209  \n",
       "waste                                  18.413052 -174.670      121.020  "
      ]
     },
     "execution_count": 126,
     "metadata": {},
     "output_type": "execute_result"
    }
   ],
   "source": [
    "fuel_data[['fuel_type_code_pudl','fuel_qty_burned','fuel_cost_per_unit_burned', 'fuel_cost_per_unit_delivered']].groupby('fuel_type_code_pudl').agg([np.mean, 'min', 'max'])"
   ]
  },
  {
   "cell_type": "code",
   "execution_count": 127,
   "metadata": {},
   "outputs": [
    {
     "data": {
      "text/plain": [
       "<AxesSubplot:xlabel='fuel_type_code_pudl', ylabel='fuel_cost_per_unit_burned'>"
      ]
     },
     "execution_count": 127,
     "metadata": {},
     "output_type": "execute_result"
    },
    {
     "data": {
      "image/png": "[encoded data removed]",
      "text/plain": [
       "<Figure size 432x288 with 1 Axes>"
      ]
     },
     "metadata": {
      "needs_background": "light"
     },
     "output_type": "display_data"
    }
   ],
   "source": [
    "sns.boxplot(x=\"fuel_type_code_pudl\", y=\"fuel_cost_per_unit_burned\", data=fuel_data,palette='rainbow')"
   ]
  },
  {
   "cell_type": "code",
   "execution_count": 128,
   "metadata": {},
   "outputs": [
    {
     "data": {
      "text/plain": [
       "2000    1373\n",
       "2001    1356\n",
       "2005    1269\n",
       "2007    1264\n",
       "2010    1261\n",
       "2006    1243\n",
       "2012    1243\n",
       "2011    1240\n",
       "1994    1235\n",
       "2008    1228\n",
       "2009    1222\n",
       "2003    1211\n",
       "2002    1205\n",
       "1995    1201\n",
       "2013    1199\n",
       "2004    1192\n",
       "2014    1171\n",
       "1998    1107\n",
       "1997    1094\n",
       "2015    1093\n",
       "1996    1088\n",
       "1999    1050\n",
       "2016    1034\n",
       "2017     993\n",
       "2018     951\n",
       "Name: report_year, dtype: int64"
      ]
     },
     "execution_count": 128,
     "metadata": {},
     "output_type": "execute_result"
    }
   ],
   "source": [
    "fuel_data['report_year'].value_counts().sort_values(ascending = False)"
   ]
  },
  {
   "cell_type": "code",
   "execution_count": 129,
   "metadata": {},
   "outputs": [
    {
     "data": {
      "text/html": [
       "<div>\n",
       "<style scoped>\n",
       "    .dataframe tbody tr th:only-of-type {\n",
       "        vertical-align: middle;\n",
       "    }\n",
       "\n",
       "    .dataframe tbody tr th {\n",
       "        vertical-align: top;\n",
       "    }\n",
       "\n",
       "    .dataframe thead tr th {\n",
       "        text-align: left;\n",
       "    }\n",
       "\n",
       "    .dataframe thead tr:last-of-type th {\n",
       "        text-align: right;\n",
       "    }\n",
       "</style>\n",
       "<table border=\"1\" class=\"dataframe\">\n",
       "  <thead>\n",
       "    <tr>\n",
       "      <th></th>\n",
       "      <th></th>\n",
       "      <th colspan=\"3\" halign=\"left\">fuel_qty_burned</th>\n",
       "      <th colspan=\"3\" halign=\"left\">fuel_cost_per_unit_burned</th>\n",
       "      <th colspan=\"3\" halign=\"left\">fuel_cost_per_unit_delivered</th>\n",
       "    </tr>\n",
       "    <tr>\n",
       "      <th></th>\n",
       "      <th></th>\n",
       "      <th>mean</th>\n",
       "      <th>min</th>\n",
       "      <th>max</th>\n",
       "      <th>mean</th>\n",
       "      <th>min</th>\n",
       "      <th>max</th>\n",
       "      <th>mean</th>\n",
       "      <th>min</th>\n",
       "      <th>max</th>\n",
       "    </tr>\n",
       "    <tr>\n",
       "      <th>fuel_type_code_pudl</th>\n",
       "      <th>report_year</th>\n",
       "      <th></th>\n",
       "      <th></th>\n",
       "      <th></th>\n",
       "      <th></th>\n",
       "      <th></th>\n",
       "      <th></th>\n",
       "      <th></th>\n",
       "      <th></th>\n",
       "      <th></th>\n",
       "    </tr>\n",
       "  </thead>\n",
       "  <tbody>\n",
       "    <tr>\n",
       "      <th rowspan=\"5\" valign=\"top\">coal</th>\n",
       "      <th>1994</th>\n",
       "      <td>1.509912e+06</td>\n",
       "      <td>1586.0</td>\n",
       "      <td>35063261.0</td>\n",
       "      <td>31.546467</td>\n",
       "      <td>9.702</td>\n",
       "      <td>60.810</td>\n",
       "      <td>124.663939</td>\n",
       "      <td>0.000</td>\n",
       "      <td>45115.000</td>\n",
       "    </tr>\n",
       "    <tr>\n",
       "      <th>1995</th>\n",
       "      <td>2.647153e+06</td>\n",
       "      <td>208.0</td>\n",
       "      <td>555894250.0</td>\n",
       "      <td>30.677442</td>\n",
       "      <td>6.430</td>\n",
       "      <td>78.870</td>\n",
       "      <td>28.850834</td>\n",
       "      <td>0.000</td>\n",
       "      <td>60.270</td>\n",
       "    </tr>\n",
       "    <tr>\n",
       "      <th>1996</th>\n",
       "      <td>1.621465e+06</td>\n",
       "      <td>4988.0</td>\n",
       "      <td>13320972.0</td>\n",
       "      <td>29.454299</td>\n",
       "      <td>8.340</td>\n",
       "      <td>60.280</td>\n",
       "      <td>28.045432</td>\n",
       "      <td>0.000</td>\n",
       "      <td>60.070</td>\n",
       "    </tr>\n",
       "    <tr>\n",
       "      <th>1997</th>\n",
       "      <td>1.958999e+06</td>\n",
       "      <td>744.0</td>\n",
       "      <td>66450503.0</td>\n",
       "      <td>104.897309</td>\n",
       "      <td>1.413</td>\n",
       "      <td>31839.000</td>\n",
       "      <td>27.119043</td>\n",
       "      <td>0.000</td>\n",
       "      <td>55.570</td>\n",
       "    </tr>\n",
       "    <tr>\n",
       "      <th>1998</th>\n",
       "      <td>2.084013e+06</td>\n",
       "      <td>311.0</td>\n",
       "      <td>59721306.0</td>\n",
       "      <td>27.616234</td>\n",
       "      <td>1.412</td>\n",
       "      <td>54.661</td>\n",
       "      <td>716.015659</td>\n",
       "      <td>0.000</td>\n",
       "      <td>270604.000</td>\n",
       "    </tr>\n",
       "    <tr>\n",
       "      <th>...</th>\n",
       "      <th>...</th>\n",
       "      <td>...</td>\n",
       "      <td>...</td>\n",
       "      <td>...</td>\n",
       "      <td>...</td>\n",
       "      <td>...</td>\n",
       "      <td>...</td>\n",
       "      <td>...</td>\n",
       "      <td>...</td>\n",
       "      <td>...</td>\n",
       "    </tr>\n",
       "    <tr>\n",
       "      <th rowspan=\"5\" valign=\"top\">waste</th>\n",
       "      <th>2014</th>\n",
       "      <td>2.004032e+05</td>\n",
       "      <td>1889.0</td>\n",
       "      <td>538837.0</td>\n",
       "      <td>32.866333</td>\n",
       "      <td>11.500</td>\n",
       "      <td>48.570</td>\n",
       "      <td>30.294056</td>\n",
       "      <td>2.019</td>\n",
       "      <td>48.550</td>\n",
       "    </tr>\n",
       "    <tr>\n",
       "      <th>2015</th>\n",
       "      <td>2.076373e+05</td>\n",
       "      <td>1462.0</td>\n",
       "      <td>495602.0</td>\n",
       "      <td>34.959444</td>\n",
       "      <td>1.643</td>\n",
       "      <td>82.479</td>\n",
       "      <td>32.854444</td>\n",
       "      <td>1.643</td>\n",
       "      <td>82.452</td>\n",
       "    </tr>\n",
       "    <tr>\n",
       "      <th>2016</th>\n",
       "      <td>2.224943e+05</td>\n",
       "      <td>207.0</td>\n",
       "      <td>547411.0</td>\n",
       "      <td>31.710529</td>\n",
       "      <td>-3.946</td>\n",
       "      <td>81.997</td>\n",
       "      <td>29.661471</td>\n",
       "      <td>-3.946</td>\n",
       "      <td>81.999</td>\n",
       "    </tr>\n",
       "    <tr>\n",
       "      <th>2017</th>\n",
       "      <td>2.356153e+05</td>\n",
       "      <td>1372.0</td>\n",
       "      <td>508426.0</td>\n",
       "      <td>30.138600</td>\n",
       "      <td>0.510</td>\n",
       "      <td>81.993</td>\n",
       "      <td>27.854533</td>\n",
       "      <td>0.510</td>\n",
       "      <td>82.012</td>\n",
       "    </tr>\n",
       "    <tr>\n",
       "      <th>2018</th>\n",
       "      <td>2.060233e+05</td>\n",
       "      <td>300.0</td>\n",
       "      <td>559442.0</td>\n",
       "      <td>41.310750</td>\n",
       "      <td>7.230</td>\n",
       "      <td>132.291</td>\n",
       "      <td>32.171813</td>\n",
       "      <td>2.138</td>\n",
       "      <td>81.953</td>\n",
       "    </tr>\n",
       "  </tbody>\n",
       "</table>\n",
       "<p>148 rows × 9 columns</p>\n",
       "</div>"
      ],
      "text/plain": [
       "                                fuel_qty_burned                       \\\n",
       "                                           mean     min          max   \n",
       "fuel_type_code_pudl report_year                                        \n",
       "coal                1994           1.509912e+06  1586.0   35063261.0   \n",
       "                    1995           2.647153e+06   208.0  555894250.0   \n",
       "                    1996           1.621465e+06  4988.0   13320972.0   \n",
       "                    1997           1.958999e+06   744.0   66450503.0   \n",
       "                    1998           2.084013e+06   311.0   59721306.0   \n",
       "...                                         ...     ...          ...   \n",
       "waste               2014           2.004032e+05  1889.0     538837.0   \n",
       "                    2015           2.076373e+05  1462.0     495602.0   \n",
       "                    2016           2.224943e+05   207.0     547411.0   \n",
       "                    2017           2.356153e+05  1372.0     508426.0   \n",
       "                    2018           2.060233e+05   300.0     559442.0   \n",
       "\n",
       "                                fuel_cost_per_unit_burned                     \\\n",
       "                                                     mean     min        max   \n",
       "fuel_type_code_pudl report_year                                                \n",
       "coal                1994                        31.546467   9.702     60.810   \n",
       "                    1995                        30.677442   6.430     78.870   \n",
       "                    1996                        29.454299   8.340     60.280   \n",
       "                    1997                       104.897309   1.413  31839.000   \n",
       "                    1998                        27.616234   1.412     54.661   \n",
       "...                                                   ...     ...        ...   \n",
       "waste               2014                        32.866333  11.500     48.570   \n",
       "                    2015                        34.959444   1.643     82.479   \n",
       "                    2016                        31.710529  -3.946     81.997   \n",
       "                    2017                        30.138600   0.510     81.993   \n",
       "                    2018                        41.310750   7.230    132.291   \n",
       "\n",
       "                                fuel_cost_per_unit_delivered         \\\n",
       "                                                        mean    min   \n",
       "fuel_type_code_pudl report_year                                       \n",
       "coal                1994                          124.663939  0.000   \n",
       "                    1995                           28.850834  0.000   \n",
       "                    1996                           28.045432  0.000   \n",
       "                    1997                           27.119043  0.000   \n",
       "                    1998                          716.015659  0.000   \n",
       "...                                                      ...    ...   \n",
       "waste               2014                           30.294056  2.019   \n",
       "                    2015                           32.854444  1.643   \n",
       "                    2016                           29.661471 -3.946   \n",
       "                    2017                           27.854533  0.510   \n",
       "                    2018                           32.171813  2.138   \n",
       "\n",
       "                                             \n",
       "                                        max  \n",
       "fuel_type_code_pudl report_year              \n",
       "coal                1994          45115.000  \n",
       "                    1995             60.270  \n",
       "                    1996             60.070  \n",
       "                    1997             55.570  \n",
       "                    1998         270604.000  \n",
       "...                                     ...  \n",
       "waste               2014             48.550  \n",
       "                    2015             82.452  \n",
       "                    2016             81.999  \n",
       "                    2017             82.012  \n",
       "                    2018             81.953  \n",
       "\n",
       "[148 rows x 9 columns]"
      ]
     },
     "execution_count": 129,
     "metadata": {},
     "output_type": "execute_result"
    }
   ],
   "source": [
    "fuel_data[['report_year','fuel_type_code_pudl','fuel_qty_burned','fuel_cost_per_unit_burned', 'fuel_cost_per_unit_delivered']].groupby(['fuel_type_code_pudl', 'report_year']).agg([np.mean, 'min', 'max'])"
   ]
  },
  {
   "cell_type": "code",
   "execution_count": 130,
   "metadata": {},
   "outputs": [
    {
     "data": {
      "text/html": [
       "<div>\n",
       "<style scoped>\n",
       "    .dataframe tbody tr th:only-of-type {\n",
       "        vertical-align: middle;\n",
       "    }\n",
       "\n",
       "    .dataframe tbody tr th {\n",
       "        vertical-align: top;\n",
       "    }\n",
       "\n",
       "    .dataframe thead th {\n",
       "        text-align: right;\n",
       "    }\n",
       "</style>\n",
       "<table border=\"1\" class=\"dataframe\">\n",
       "  <thead>\n",
       "    <tr style=\"text-align: right;\">\n",
       "      <th></th>\n",
       "      <th>Skew</th>\n",
       "      <th>Kurtosis</th>\n",
       "      <th>Symmetry</th>\n",
       "    </tr>\n",
       "  </thead>\n",
       "  <tbody>\n",
       "    <tr>\n",
       "      <th>utility_id_ferc1</th>\n",
       "      <td>0.605070</td>\n",
       "      <td>1.088432</td>\n",
       "      <td>Right Skewed</td>\n",
       "    </tr>\n",
       "    <tr>\n",
       "      <th>report_year</th>\n",
       "      <td>0.006953</td>\n",
       "      <td>-1.145656</td>\n",
       "      <td>Approximate Symmetry</td>\n",
       "    </tr>\n",
       "    <tr>\n",
       "      <th>fuel_qty_burned</th>\n",
       "      <td>15.851495</td>\n",
       "      <td>651.369450</td>\n",
       "      <td>Right Skewed</td>\n",
       "    </tr>\n",
       "    <tr>\n",
       "      <th>fuel_mmbtu_per_unit</th>\n",
       "      <td>4.135217</td>\n",
       "      <td>55.595695</td>\n",
       "      <td>Right Skewed</td>\n",
       "    </tr>\n",
       "    <tr>\n",
       "      <th>fuel_cost_per_unit_burned</th>\n",
       "      <td>19.787440</td>\n",
       "      <td>485.255851</td>\n",
       "      <td>Right Skewed</td>\n",
       "    </tr>\n",
       "    <tr>\n",
       "      <th>fuel_cost_per_unit_delivered</th>\n",
       "      <td>105.014227</td>\n",
       "      <td>11765.054226</td>\n",
       "      <td>Right Skewed</td>\n",
       "    </tr>\n",
       "    <tr>\n",
       "      <th>fuel_cost_per_mmbtu</th>\n",
       "      <td>171.675535</td>\n",
       "      <td>29489.132594</td>\n",
       "      <td>Right Skewed</td>\n",
       "    </tr>\n",
       "  </tbody>\n",
       "</table>\n",
       "</div>"
      ],
      "text/plain": [
       "                                    Skew      Kurtosis              Symmetry\n",
       "utility_id_ferc1                0.605070      1.088432          Right Skewed\n",
       "report_year                     0.006953     -1.145656  Approximate Symmetry\n",
       "fuel_qty_burned                15.851495    651.369450          Right Skewed\n",
       "fuel_mmbtu_per_unit             4.135217     55.595695          Right Skewed\n",
       "fuel_cost_per_unit_burned      19.787440    485.255851          Right Skewed\n",
       "fuel_cost_per_unit_delivered  105.014227  11765.054226          Right Skewed\n",
       "fuel_cost_per_mmbtu           171.675535  29489.132594          Right Skewed"
      ]
     },
     "execution_count": 130,
     "metadata": {},
     "output_type": "execute_result"
    }
   ],
   "source": [
    "# Skewness of the numerical data\n",
    "# Kurtosis of numerical data\n",
    "skew = []\n",
    "kurt = []\n",
    "symmetry = []\n",
    "normal_data = []\n",
    "skewed_num_data = []\n",
    "for col in num_features.columns:\n",
    "    x=num_features[col].skew()\n",
    "    y = num_features[col].kurt()\n",
    "    skew.append(x)\n",
    "    kurt.append(y)\n",
    "    if x < -0.5:\n",
    "        symmetry.append('Left Skewed')\n",
    "        skewed_num_data.append(col)\n",
    "    elif x > 0.5:\n",
    "        symmetry.append('Right Skewed')\n",
    "        skewed_num_data.append(col)\n",
    "    else:\n",
    "        symmetry.append('Approximate Symmetry')\n",
    "        normal_data.append(col)\n",
    "pd.DataFrame({'Skew':skew, 'Kurtosis': kurt, 'Symmetry':symmetry}, index = num_cols )"
   ]
  },
  {
   "cell_type": "markdown",
   "metadata": {},
   "source": [
    "### Univariate Analysis"
   ]
  },
  {
   "cell_type": "code",
   "execution_count": 131,
   "metadata": {},
   "outputs": [
    {
     "data": {
      "text/plain": [
       "array([[<AxesSubplot:title={'center':'utility_id_ferc1'}>,\n",
       "        <AxesSubplot:title={'center':'report_year'}>,\n",
       "        <AxesSubplot:title={'center':'fuel_qty_burned'}>],\n",
       "       [<AxesSubplot:title={'center':'fuel_mmbtu_per_unit'}>,\n",
       "        <AxesSubplot:title={'center':'fuel_cost_per_unit_burned'}>,\n",
       "        <AxesSubplot:title={'center':'fuel_cost_per_unit_delivered'}>],\n",
       "       [<AxesSubplot:title={'center':'fuel_cost_per_mmbtu'}>,\n",
       "        <AxesSubplot:>, <AxesSubplot:>]], dtype=object)"
      ]
     },
     "execution_count": 131,
     "metadata": {},
     "output_type": "execute_result"
    },
    {
     "data": {
      "image/png": "[encoded data removed]",
      "text/plain": [
       "<Figure size 720x1080 with 9 Axes>"
      ]
     },
     "metadata": {
      "needs_background": "light"
     },
     "output_type": "display_data"
    }
   ],
   "source": [
    "# plot the numerical variables\n",
    "fuel_data.hist(figsize=(10,15),bins =10)"
   ]
  },
  {
   "cell_type": "code",
   "execution_count": 132,
   "metadata": {},
   "outputs": [
    {
     "data": {
      "text/plain": [
       "<AxesSubplot:xlabel='fuel_type_code_pudl', ylabel='count'>"
      ]
     },
     "execution_count": 132,
     "metadata": {},
     "output_type": "execute_result"
    },
    {
     "data": {
      "image/png": "[encoded data removed]",
      "text/plain": [
       "<Figure size 432x288 with 1 Axes>"
      ]
     },
     "metadata": {
      "needs_background": "light"
     },
     "output_type": "display_data"
    }
   ],
   "source": [
    "sns.countplot(data= fuel_data, x= 'fuel_type_code_pudl')"
   ]
  },
  {
   "cell_type": "code",
   "execution_count": 133,
   "metadata": {},
   "outputs": [
    {
     "data": {
      "text/plain": [
       "<AxesSubplot:xlabel='fuel_unit', ylabel='count'>"
      ]
     },
     "execution_count": 133,
     "metadata": {},
     "output_type": "execute_result"
    },
    {
     "data": {
      "image/png": "[encoded data removed]",
      "text/plain": [
       "<Figure size 432x288 with 1 Axes>"
      ]
     },
     "metadata": {
      "needs_background": "light"
     },
     "output_type": "display_data"
    }
   ],
   "source": [
    "sns.countplot(data= fuel_data, x= 'fuel_unit')"
   ]
  },
  {
   "cell_type": "code",
   "execution_count": 134,
   "metadata": {},
   "outputs": [
    {
     "data": {
      "text/plain": [
       "<AxesSubplot:xlabel='fuel_type_code_pudl', ylabel='utility_id_ferc1'>"
      ]
     },
     "execution_count": 134,
     "metadata": {},
     "output_type": "execute_result"
    },
    {
     "data": {
      "image/png": "[encoded data removed]",
      "text/plain": [
       "<Figure size 432x288 with 1 Axes>"
      ]
     },
     "metadata": {
      "needs_background": "light"
     },
     "output_type": "display_data"
    }
   ],
   "source": [
    "sns.boxplot(x='fuel_type_code_pudl',y = 'utility_id_ferc1', data = fuel_data)"
   ]
  },
  {
   "cell_type": "code",
   "execution_count": 135,
   "metadata": {},
   "outputs": [
    {
     "data": {
      "text/plain": [
       "<AxesSubplot:xlabel='report_year'>"
      ]
     },
     "execution_count": 135,
     "metadata": {},
     "output_type": "execute_result"
    },
    {
     "data": {
      "image/png": "[encoded data removed]",
      "text/plain": [
       "<Figure size 432x288 with 1 Axes>"
      ]
     },
     "metadata": {
      "needs_background": "light"
     },
     "output_type": "display_data"
    }
   ],
   "source": [
    "fuel_data[['report_year','fuel_cost_per_unit_burned']].groupby('report_year').sum().plot()"
   ]
  },
  {
   "cell_type": "code",
   "execution_count": 136,
   "metadata": {},
   "outputs": [
    {
     "data": {
      "text/plain": [
       "Index(['gas', 'coal', 'oil', 'nuclear', 'waste', 'other'], dtype='object')"
      ]
     },
     "execution_count": 136,
     "metadata": {},
     "output_type": "execute_result"
    }
   ],
   "source": [
    "fuel_data.fuel_type_code_pudl.value_counts().index"
   ]
  },
  {
   "cell_type": "markdown",
   "metadata": {},
   "source": [
    "### Plot showing each fuel quantity burned over the years"
   ]
  },
  {
   "cell_type": "code",
   "execution_count": 137,
   "metadata": {},
   "outputs": [
    {
     "data": {
      "image/png": "[encoded data removed]",
      "text/plain": [
       "<Figure size 576x1440 with 6 Axes>"
      ]
     },
     "metadata": {},
     "output_type": "display_data"
    }
   ],
   "source": [
    "sns.set_style('darkgrid')\n",
    "df = fuel_data[['report_year','fuel_type_code_pudl','fuel_qty_burned']].groupby(['report_year', 'fuel_type_code_pudl']).sum()\n",
    "df.reset_index(inplace= True)\n",
    "fig, axes = plt.subplots(fuel_data.fuel_type_code_pudl.nunique(),1,figsize=(8,20))\n",
    "fuel_data_type = ['gas', 'coal', 'oil', 'nuclear', 'waste', 'other']\n",
    "for data, subplot,color in zip(fuel_data_type, axes, ['g', 'b', 'c', 'r', 'm', 'k']):\n",
    "    x = df[df['fuel_type_code_pudl'] == data]['report_year']\n",
    "    y = df[df['fuel_type_code_pudl'] == data]['fuel_qty_burned']\n",
    "    subplot.plot(x, y, color = color, label = data)\n",
    "    subplot.set_title(f'{data.title()} emmissions over the  years')\n",
    "    subplot.set_ylabel('Quantity of fuel burnt')\n",
    "    subplot.legend()\n",
    "plt.tight_layout()"
   ]
  },
  {
   "cell_type": "code",
   "execution_count": 138,
   "metadata": {},
   "outputs": [
    {
     "data": {
      "text/plain": [
       "<AxesSubplot:xlabel='report_year', ylabel='fuel_qty_burned'>"
      ]
     },
     "execution_count": 138,
     "metadata": {},
     "output_type": "execute_result"
    },
    {
     "data": {
      "image/png": "[encoded data removed]",
      "text/plain": [
       "<Figure size 1080x720 with 1 Axes>"
      ]
     },
     "metadata": {},
     "output_type": "display_data"
    }
   ],
   "source": [
    "from matplotlib import rcParams\n",
    "rcParams['figure.figsize'] = 15,10\n",
    "sns.lineplot(data=df,x= 'report_year',y = 'fuel_qty_burned', hue = 'fuel_type_code_pudl')"
   ]
  },
  {
   "cell_type": "markdown",
   "metadata": {},
   "source": [
    "### Quiz Solutions with workings"
   ]
  },
  {
   "cell_type": "code",
   "execution_count": 139,
   "metadata": {},
   "outputs": [
    {
     "name": "stdout",
     "output_type": "stream",
     "text": [
      "[1, 2, 3, 4, 5, 6, 13, 21, 34]\n",
      "None\n",
      "None\n"
     ]
    }
   ],
   "source": [
    "A = [1,2,3,4,5,6] \n",
    "B = [13, 21, 34]\n",
    "\n",
    "print(A+B)\n",
    "print(A.extend(B))\n",
    "print(A.append(B))"
   ]
  },
  {
   "cell_type": "code",
   "execution_count": 140,
   "metadata": {},
   "outputs": [
    {
     "data": {
      "text/plain": [
       "array([[1., 0., 0.],\n",
       "       [0., 1., 0.],\n",
       "       [0., 0., 1.]])"
      ]
     },
     "execution_count": 140,
     "metadata": {},
     "output_type": "execute_result"
    }
   ],
   "source": [
    "np.identity(3)"
   ]
  },
  {
   "cell_type": "code",
   "execution_count": 141,
   "metadata": {},
   "outputs": [
    {
     "data": {
      "text/html": [
       "<div>\n",
       "<style scoped>\n",
       "    .dataframe tbody tr th:only-of-type {\n",
       "        vertical-align: middle;\n",
       "    }\n",
       "\n",
       "    .dataframe tbody tr th {\n",
       "        vertical-align: top;\n",
       "    }\n",
       "\n",
       "    .dataframe thead th {\n",
       "        text-align: right;\n",
       "    }\n",
       "</style>\n",
       "<table border=\"1\" class=\"dataframe\">\n",
       "  <thead>\n",
       "    <tr style=\"text-align: right;\">\n",
       "      <th></th>\n",
       "      <th>fuel_cost_per_unit_burned</th>\n",
       "    </tr>\n",
       "    <tr>\n",
       "      <th>fuel_type_code_pudl</th>\n",
       "      <th></th>\n",
       "    </tr>\n",
       "  </thead>\n",
       "  <tbody>\n",
       "    <tr>\n",
       "      <th>gas</th>\n",
       "      <td>13.659397</td>\n",
       "    </tr>\n",
       "    <tr>\n",
       "      <th>other</th>\n",
       "      <td>18.253856</td>\n",
       "    </tr>\n",
       "    <tr>\n",
       "      <th>waste</th>\n",
       "      <td>19.518122</td>\n",
       "    </tr>\n",
       "    <tr>\n",
       "      <th>coal</th>\n",
       "      <td>67.421830</td>\n",
       "    </tr>\n",
       "    <tr>\n",
       "      <th>oil</th>\n",
       "      <td>168.877086</td>\n",
       "    </tr>\n",
       "    <tr>\n",
       "      <th>nuclear</th>\n",
       "      <td>4955.157002</td>\n",
       "    </tr>\n",
       "  </tbody>\n",
       "</table>\n",
       "</div>"
      ],
      "text/plain": [
       "                     fuel_cost_per_unit_burned\n",
       "fuel_type_code_pudl                           \n",
       "gas                                  13.659397\n",
       "other                                18.253856\n",
       "waste                                19.518122\n",
       "coal                                 67.421830\n",
       "oil                                 168.877086\n",
       "nuclear                            4955.157002"
      ]
     },
     "execution_count": 141,
     "metadata": {},
     "output_type": "execute_result"
    }
   ],
   "source": [
    "fuel_data[['fuel_type_code_pudl','fuel_cost_per_unit_burned']].groupby('fuel_type_code_pudl').mean().sort_values(ascending= True, by ='fuel_cost_per_unit_burned')"
   ]
  },
  {
   "cell_type": "code",
   "execution_count": 142,
   "metadata": {},
   "outputs": [
    {
     "name": "stdout",
     "output_type": "stream",
     "text": [
      "10.600220307806886\n",
      "17.006\n"
     ]
    }
   ],
   "source": [
    "print(fuel_data['fuel_mmbtu_per_unit'].std())\n",
    "print(np.percentile(fuel_data['fuel_mmbtu_per_unit'], q = 75))"
   ]
  },
  {
   "cell_type": "code",
   "execution_count": 143,
   "metadata": {},
   "outputs": [
    {
     "data": {
      "text/plain": [
       "Skew             15.8515\n",
       "Kurtosis         651.369\n",
       "Symmetry    Right Skewed\n",
       "Name: fuel_qty_burned, dtype: object"
      ]
     },
     "execution_count": 143,
     "metadata": {},
     "output_type": "execute_result"
    }
   ],
   "source": [
    "# Skewness of the numerical data\n",
    "# Kurtosis of numerical data\n",
    "skew = []\n",
    "kurt = []\n",
    "symmetry = []\n",
    "normal_data = []\n",
    "skewed_num_data = []\n",
    "for col in num_features.columns:\n",
    "    x=num_features[col].skew()\n",
    "    y = num_features[col].kurt()\n",
    "    skew.append(x)\n",
    "    kurt.append(y)\n",
    "    if x < -0.5:\n",
    "        symmetry.append('Left Skewed')\n",
    "        skewed_num_data.append(col)\n",
    "    elif x > 0.5:\n",
    "        symmetry.append('Right Skewed')\n",
    "        skewed_num_data.append(col)\n",
    "    else:\n",
    "        symmetry.append('Approximate Symmetry')\n",
    "        normal_data.append(col)\n",
    "pd.DataFrame({'Skew':skew, 'Kurtosis': kurt, 'Symmetry':symmetry}, index = num_cols ).loc['fuel_qty_burned', : ]"
   ]
  },
  {
   "cell_type": "code",
   "execution_count": 144,
   "metadata": {},
   "outputs": [
    {
     "data": {
      "text/html": [
       "<div>\n",
       "<style scoped>\n",
       "    .dataframe tbody tr th:only-of-type {\n",
       "        vertical-align: middle;\n",
       "    }\n",
       "\n",
       "    .dataframe tbody tr th {\n",
       "        vertical-align: top;\n",
       "    }\n",
       "\n",
       "    .dataframe thead th {\n",
       "        text-align: right;\n",
       "    }\n",
       "</style>\n",
       "<table border=\"1\" class=\"dataframe\">\n",
       "  <thead>\n",
       "    <tr style=\"text-align: right;\">\n",
       "      <th></th>\n",
       "      <th>Percent_missing_value</th>\n",
       "    </tr>\n",
       "  </thead>\n",
       "  <tbody>\n",
       "    <tr>\n",
       "      <th>fuel_unit</th>\n",
       "      <td>0.61</td>\n",
       "    </tr>\n",
       "  </tbody>\n",
       "</table>\n",
       "</div>"
      ],
      "text/plain": [
       "           Percent_missing_value\n",
       "fuel_unit                   0.61"
      ]
     },
     "execution_count": 144,
     "metadata": {},
     "output_type": "execute_result"
    }
   ],
   "source": [
    "mssn_value = pd.DataFrame(round((fuel_data.isnull().sum()/fuel_data.shape[0])*100, 2),columns=['Percent_missing_value'])\n",
    "mssn_value[mssn_value['Percent_missing_value']!= 0]"
   ]
  },
  {
   "cell_type": "code",
   "execution_count": 145,
   "metadata": {},
   "outputs": [
    {
     "data": {
      "text/plain": [
       "fuel_cost_per_unit_burned       1.000000\n",
       "report_year                     0.013599\n",
       "fuel_cost_per_unit_delivered    0.011007\n",
       "fuel_cost_per_mmbtu            -0.000437\n",
       "fuel_mmbtu_per_unit            -0.010034\n",
       "fuel_qty_burned                -0.018535\n",
       "utility_id_ferc1               -0.037863\n",
       "Name: fuel_cost_per_unit_burned, dtype: float64"
      ]
     },
     "execution_count": 145,
     "metadata": {},
     "output_type": "execute_result"
    }
   ],
   "source": [
    "fuel_data.corr()['fuel_cost_per_unit_burned'].sort_values(ascending = False)"
   ]
  },
  {
   "cell_type": "code",
   "execution_count": 146,
   "metadata": {},
   "outputs": [
    {
     "data": {
      "text/plain": [
       "fuel_cost_per_unit_burned   -0.467365\n",
       "dtype: float64"
      ]
     },
     "execution_count": 146,
     "metadata": {},
     "output_type": "execute_result"
    }
   ],
   "source": [
    "new_df =fuel_data[['report_year','fuel_cost_per_unit_burned']].groupby('report_year').sum()\n",
    "new_df.loc[1998,:]\n",
    "(new_df.loc[1998,:] - new_df.loc[1994,:])/new_df.loc[1994,:]"
   ]
  },
  {
   "cell_type": "code",
   "execution_count": 147,
   "metadata": {},
   "outputs": [
    {
     "data": {
      "text/html": [
       "<div>\n",
       "<style scoped>\n",
       "    .dataframe tbody tr th:only-of-type {\n",
       "        vertical-align: middle;\n",
       "    }\n",
       "\n",
       "    .dataframe tbody tr th {\n",
       "        vertical-align: top;\n",
       "    }\n",
       "\n",
       "    .dataframe thead th {\n",
       "        text-align: right;\n",
       "    }\n",
       "</style>\n",
       "<table border=\"1\" class=\"dataframe\">\n",
       "  <thead>\n",
       "    <tr style=\"text-align: right;\">\n",
       "      <th></th>\n",
       "      <th>fuel_cost_per_unit_delivered</th>\n",
       "    </tr>\n",
       "    <tr>\n",
       "      <th>report_year</th>\n",
       "      <th></th>\n",
       "    </tr>\n",
       "  </thead>\n",
       "  <tbody>\n",
       "    <tr>\n",
       "      <th>1997</th>\n",
       "      <td>11140.197239</td>\n",
       "    </tr>\n",
       "    <tr>\n",
       "      <th>1996</th>\n",
       "      <td>9196.705948</td>\n",
       "    </tr>\n",
       "    <tr>\n",
       "      <th>2000</th>\n",
       "      <td>985.362877</td>\n",
       "    </tr>\n",
       "    <tr>\n",
       "      <th>2009</th>\n",
       "      <td>652.694163</td>\n",
       "    </tr>\n",
       "    <tr>\n",
       "      <th>2018</th>\n",
       "      <td>499.269966</td>\n",
       "    </tr>\n",
       "    <tr>\n",
       "      <th>2015</th>\n",
       "      <td>326.535511</td>\n",
       "    </tr>\n",
       "    <tr>\n",
       "      <th>1998</th>\n",
       "      <td>287.154420</td>\n",
       "    </tr>\n",
       "    <tr>\n",
       "      <th>2014</th>\n",
       "      <td>192.737183</td>\n",
       "    </tr>\n",
       "    <tr>\n",
       "      <th>2013</th>\n",
       "      <td>172.307591</td>\n",
       "    </tr>\n",
       "    <tr>\n",
       "      <th>2004</th>\n",
       "      <td>139.524275</td>\n",
       "    </tr>\n",
       "    <tr>\n",
       "      <th>2016</th>\n",
       "      <td>103.901761</td>\n",
       "    </tr>\n",
       "    <tr>\n",
       "      <th>2010</th>\n",
       "      <td>91.862105</td>\n",
       "    </tr>\n",
       "    <tr>\n",
       "      <th>1994</th>\n",
       "      <td>63.636060</td>\n",
       "    </tr>\n",
       "    <tr>\n",
       "      <th>2012</th>\n",
       "      <td>60.994502</td>\n",
       "    </tr>\n",
       "    <tr>\n",
       "      <th>2001</th>\n",
       "      <td>60.050396</td>\n",
       "    </tr>\n",
       "    <tr>\n",
       "      <th>2011</th>\n",
       "      <td>59.774667</td>\n",
       "    </tr>\n",
       "    <tr>\n",
       "      <th>2008</th>\n",
       "      <td>58.588197</td>\n",
       "    </tr>\n",
       "    <tr>\n",
       "      <th>2003</th>\n",
       "      <td>55.663493</td>\n",
       "    </tr>\n",
       "    <tr>\n",
       "      <th>2002</th>\n",
       "      <td>47.594361</td>\n",
       "    </tr>\n",
       "    <tr>\n",
       "      <th>2017</th>\n",
       "      <td>46.196861</td>\n",
       "    </tr>\n",
       "    <tr>\n",
       "      <th>2007</th>\n",
       "      <td>43.325023</td>\n",
       "    </tr>\n",
       "    <tr>\n",
       "      <th>2005</th>\n",
       "      <td>41.438184</td>\n",
       "    </tr>\n",
       "    <tr>\n",
       "      <th>2006</th>\n",
       "      <td>38.657484</td>\n",
       "    </tr>\n",
       "    <tr>\n",
       "      <th>1995</th>\n",
       "      <td>32.735269</td>\n",
       "    </tr>\n",
       "    <tr>\n",
       "      <th>1999</th>\n",
       "      <td>25.551627</td>\n",
       "    </tr>\n",
       "  </tbody>\n",
       "</table>\n",
       "</div>"
      ],
      "text/plain": [
       "             fuel_cost_per_unit_delivered\n",
       "report_year                              \n",
       "1997                         11140.197239\n",
       "1996                          9196.705948\n",
       "2000                           985.362877\n",
       "2009                           652.694163\n",
       "2018                           499.269966\n",
       "2015                           326.535511\n",
       "1998                           287.154420\n",
       "2014                           192.737183\n",
       "2013                           172.307591\n",
       "2004                           139.524275\n",
       "2016                           103.901761\n",
       "2010                            91.862105\n",
       "1994                            63.636060\n",
       "2012                            60.994502\n",
       "2001                            60.050396\n",
       "2011                            59.774667\n",
       "2008                            58.588197\n",
       "2003                            55.663493\n",
       "2002                            47.594361\n",
       "2017                            46.196861\n",
       "2007                            43.325023\n",
       "2005                            41.438184\n",
       "2006                            38.657484\n",
       "1995                            32.735269\n",
       "1999                            25.551627"
      ]
     },
     "execution_count": 147,
     "metadata": {},
     "output_type": "execute_result"
    }
   ],
   "source": [
    "fuel_data[['report_year','fuel_cost_per_unit_delivered']].groupby('report_year').mean().sort_values(ascending= False, by ='fuel_cost_per_unit_delivered')"
   ]
  },
  {
   "cell_type": "code",
   "execution_count": null,
   "metadata": {},
   "outputs": [],
   "source": []
  }
 ],
 "metadata": {
  "kernelspec": {
   "display_name": "Python 3",
   "language": "python",
   "name": "python3"
  },
  "language_info": {
   "codemirror_mode": {
    "name": "ipython",
    "version": 3
   },
   "file_extension": ".py",
   "mimetype": "text/x-python",
   "name": "python",
   "nbconvert_exporter": "python",
   "pygments_lexer": "ipython3",
   "version": "3.8.5"
  }
 },
 "nbformat": 4,
 "nbformat_minor": 4
}
